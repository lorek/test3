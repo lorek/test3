{
  "cells": [
    {
      "cell_type": "markdown",
      "metadata": {
        "id": "view-in-github",
        "colab_type": "text"
      },
      "source": [
        "<a href=\"https://colab.research.google.com/github/lorek/test3/blob/main/testtt.ipynb\" target=\"_parent\"><img src=\"https://colab.research.google.com/assets/colab-badge.svg\" alt=\"Open In Colab\"/></a>"
      ]
    },
    {
      "cell_type": "markdown",
      "metadata": {
        "id": "10IBt4JvSyGU"
      },
      "source": [
        "<a target=\"_blank\" href=\"https://colab.research.google.com/github/lorek/MethodsClassDimRed/blob/main/List_nr_1.ipynb\">\n",
        "  <img src=\"https://colab.research.google.com/assets/colab-badge.svg\" alt=\"Open In Colab\"/>\n",
        "</a>"
      ]
    },
    {
      "cell_type": "markdown",
      "source": [
        "# LIST NR 1: Python and NumPy exercises"
      ],
      "metadata": {
        "id": "rEVtJzWwTccH"
      }
    },
    {
      "cell_type": "code",
      "source": [
        "import numpy as np"
      ],
      "metadata": {
        "id": "hHdghuG4TcE3"
      },
      "execution_count": null,
      "outputs": []
    },
    {
      "cell_type": "markdown",
      "source": [
        "If you are new to Python: most questions can be answered after few minuts of \"googling\". You may also want to check simple built-in help, e.g., `help(np)` or `help(np.random)`"
      ],
      "metadata": {
        "id": "UVj52XDVTvwW"
      }
    },
    {
      "cell_type": "markdown",
      "source": [
        "## Q1.0 (warm-up)"
      ],
      "metadata": {
        "id": "2mQSLUlZTx4m"
      }
    },
    {
      "cell_type": "markdown",
      "source": [
        "Create:\n",
        "* a=[1,2,...,100] (vector consiting of integer numbers from 1 to 100)\n",
        "* b=[1,3,...,99]\n",
        "* c=$[-\\pi, -0.99\\pi,...,0.99\\pi, \\pi]$\n",
        "* A = matrix of size $10\\times 10$:\n",
        "$$\\left[\\begin{array}{llll}\n",
        "1 & 2 & \\ldots & 9 & 10\\\\\n",
        "11 & 12 & \\ldots & 19 & 20\\\\\n",
        "\\vdots \\\\\n",
        "91 & 92 & \\ldots & 99 & 100\n",
        "\\end{array}\\right]$$\n",
        "* B = upper-triangular matrix with ons on and above diagonal\n",
        "* C = matrix of size $2\\times 100$, where first row has elements $d_{1,i} = 1+2+\\ldots + i$ and second $d_{2,i}=i!$\n",
        "* D = matrix of size $100\\times 100$ such that D[i,j]=1 if i divides j, 0 otherwise"
      ],
      "metadata": {
        "id": "8rkqi6kjT2TV"
      }
    },
    {
      "cell_type": "markdown",
      "source": [
        "## Q1.1"
      ],
      "metadata": {
        "id": "rRDt3axBT6IU"
      }
    },
    {
      "cell_type": "code",
      "source": [
        "np.random.seed(0)"
      ],
      "metadata": {
        "id": "3-GfQZRVT2wM"
      },
      "execution_count": null,
      "outputs": []
    },
    {
      "cell_type": "markdown",
      "source": [
        "1000 numbers for uniform distribution $U(-2,5)$"
      ],
      "metadata": {
        "id": "nPUaAnKaT_BU"
      }
    },
    {
      "cell_type": "code",
      "source": [
        "np.random.seed(0)\n",
        "x = np.random.uniform(-2,5, size=1000)"
      ],
      "metadata": {
        "id": "jtPX01d8T_cV"
      },
      "execution_count": null,
      "outputs": []
    },
    {
      "cell_type": "code",
      "source": [],
      "metadata": {
        "id": "u4tNhNZzT85m"
      },
      "execution_count": null,
      "outputs": []
    },
    {
      "cell_type": "code",
      "execution_count": null,
      "metadata": {
        "id": "7bPW-WtBSyGX"
      },
      "outputs": [],
      "source": []
    },
    {
      "cell_type": "code",
      "execution_count": null,
      "metadata": {
        "id": "wyuRgBt4SyGX"
      },
      "outputs": [],
      "source": []
    }
  ],
  "metadata": {
    "colab": {
      "provenance": [],
      "include_colab_link": true
    },
    "kernelspec": {
      "display_name": "Python 3 (ipykernel)",
      "language": "python",
      "name": "python3"
    },
    "language_info": {
      "codemirror_mode": {
        "name": "ipython",
        "version": 3
      },
      "file_extension": ".py",
      "mimetype": "text/x-python",
      "name": "python",
      "nbconvert_exporter": "python",
      "pygments_lexer": "ipython3",
      "version": "3.10.12"
    }
  },
  "nbformat": 4,
  "nbformat_minor": 0
}